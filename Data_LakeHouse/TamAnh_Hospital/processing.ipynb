{
 "cells": [
  {
   "cell_type": "markdown",
   "id": "235699b6",
   "metadata": {},
   "source": [
    "Cleaning Data"
   ]
  },
  {
   "cell_type": "code",
   "execution_count": 49,
   "id": "7b293e44",
   "metadata": {},
   "outputs": [
    {
     "data": {
      "text/plain": [
       "<bound method NDFrame.describe of                                                       url  \\\n",
       "0       https://tamanhhospital.vn/tu-van/zente-co-anh-...   \n",
       "1       https://tamanhhospital.vn/tu-van/zente-co-anh-...   \n",
       "2       https://tamanhhospital.vn/tu-van/zente-co-anh-...   \n",
       "3       https://tamanhhospital.vn/tu-van/zente-co-anh-...   \n",
       "4       https://tamanhhospital.vn/tu-van/cac-chi-so-tr...   \n",
       "...                                                   ...   \n",
       "103034  https://tamanhhospital.vn/thu-thuat-ky-thuat/c...   \n",
       "103035  https://tamanhhospital.vn/thu-thuat-ky-thuat/c...   \n",
       "103036  https://tamanhhospital.vn/thu-thuat-ky-thuat/c...   \n",
       "103037  https://tamanhhospital.vn/thu-thuat-ky-thuat/c...   \n",
       "103038  https://tamanhhospital.vn/thu-thuat-ky-thuat/c...   \n",
       "\n",
       "                                                    title  \\\n",
       "0          Zente có ảnh hưởng nhiều đến thai nhi không ạ?   \n",
       "1          Zente có ảnh hưởng nhiều đến thai nhi không ạ?   \n",
       "2          Zente có ảnh hưởng nhiều đến thai nhi không ạ?   \n",
       "3          Zente có ảnh hưởng nhiều đến thai nhi không ạ?   \n",
       "4               Các chỉ số trên có ý nghĩa như thế nào ạ?   \n",
       "...                                                   ...   \n",
       "103034  Chạy thận là gì? Nguyên nhân, chống chỉ định, ...   \n",
       "103035  Chạy thận là gì? Nguyên nhân, chống chỉ định, ...   \n",
       "103036  Chạy thận là gì? Nguyên nhân, chống chỉ định, ...   \n",
       "103037  Chạy thận là gì? Nguyên nhân, chống chỉ định, ...   \n",
       "103038  Chạy thận là gì? Nguyên nhân, chống chỉ định, ...   \n",
       "\n",
       "                                               heading  \\\n",
       "0       Zente có ảnh hưởng nhiều đến thai nhi không ạ?   \n",
       "1                      ĐẶT CÂU HỎI VỚI CHUYÊN GIA NGAY   \n",
       "2                                LIÊN HỆ VỚI CHÚNG TÔI   \n",
       "3                                     ĐỐI TÁC BẢO HIỂM   \n",
       "4            Các chỉ số trên có ý nghĩa như thế nào ạ?   \n",
       "...                                                ...   \n",
       "103034      Hướng dẫn chăm sóc bệnh nhân sau chạy thận   \n",
       "103035   Lời khuyên của bác sĩ đối với người chạy thận   \n",
       "103036                               Câu hỏi liên quan   \n",
       "103037                           LIÊN HỆ VỚI CHÚNG TÔI   \n",
       "103038                                ĐỐI TÁC BẢO HIỂM   \n",
       "\n",
       "                                                  content error  \n",
       "0       Chào Chị, Cảm ơn chị đã đặt câu hỏi đến Bệnh v...   NaN  \n",
       "1                                        TƯ VẤN LIÊN QUAN   NaN  \n",
       "2                                                     NaN   NaN  \n",
       "3       HỆ THỐNG BỆNH VIỆN 108 Phố Hoàng Như Tiếp, P. ...   NaN  \n",
       "4       Chào Chị,\\nCảm ơn chị đã gửi câu hỏi về Bệnh v...   NaN  \n",
       "...                                                   ...   ...  \n",
       "103034  Dưới đây là các hướng dẫn chăm sóc người bệnh ...   NaN  \n",
       "103035  Lời khuyên của bác sĩ đối với người chạy thận ...   NaN  \n",
       "103036  1. Chạy thận có nguy hiểm không? Chạy thận khô...   NaN  \n",
       "103037                                                NaN   NaN  \n",
       "103038  HỆ THỐNG BỆNH VIỆN 108 Phố Hoàng Như Tiếp, P. ...   NaN  \n",
       "\n",
       "[103039 rows x 5 columns]>"
      ]
     },
     "execution_count": 49,
     "metadata": {},
     "output_type": "execute_result"
    }
   ],
   "source": [
    "import pandas as pd\n",
    "df = pd.read_csv('./content.csv')\n",
    "\n",
    "df.head(5)\n",
    "df.describe"
   ]
  },
  {
   "cell_type": "markdown",
   "id": "5a2c6e79",
   "metadata": {},
   "source": [
    "Delete content \"\""
   ]
  },
  {
   "cell_type": "markdown",
   "id": "cc64ba3d",
   "metadata": {},
   "source": [
    "Delete content: TƯ VẤN LIÊN QUAN"
   ]
  },
  {
   "cell_type": "code",
   "execution_count": 50,
   "id": "3d7d76d8",
   "metadata": {},
   "outputs": [],
   "source": [
    "df = df[df.content.notna()]\n",
    "df = df.drop(df[df.heading == \"LIÊN HỆ VỚI CHÚNG TÔI\"].index)\n",
    "df = df.drop(df[df.heading == \"ĐẶT CÂU HỎI VỚI CHUYÊN GIA NGAY\"].index)\n",
    "\n",
    "df = df.drop(df[df.heading == \"ĐỐI TÁC BẢO HIỂM\"].index)\n",
    "\n",
    "\n"
   ]
  },
  {
   "cell_type": "code",
   "execution_count": 51,
   "id": "16b4dfc1",
   "metadata": {},
   "outputs": [
    {
     "data": {
      "text/plain": [
       "<bound method NDFrame.describe of                                                       url  \\\n",
       "0       https://tamanhhospital.vn/tu-van/zente-co-anh-...   \n",
       "4       https://tamanhhospital.vn/tu-van/cac-chi-so-tr...   \n",
       "8       https://tamanhhospital.vn/tu-van/khong-biet-ch...   \n",
       "12      https://tamanhhospital.vn/tu-van/vo-em-bi-tu-c...   \n",
       "16      https://tamanhhospital.vn/tu-van/dinh-buong-tu...   \n",
       "...                                                   ...   \n",
       "103032  https://tamanhhospital.vn/thu-thuat-ky-thuat/c...   \n",
       "103033  https://tamanhhospital.vn/thu-thuat-ky-thuat/c...   \n",
       "103034  https://tamanhhospital.vn/thu-thuat-ky-thuat/c...   \n",
       "103035  https://tamanhhospital.vn/thu-thuat-ky-thuat/c...   \n",
       "103036  https://tamanhhospital.vn/thu-thuat-ky-thuat/c...   \n",
       "\n",
       "                                                    title  \\\n",
       "0          Zente có ảnh hưởng nhiều đến thai nhi không ạ?   \n",
       "4               Các chỉ số trên có ý nghĩa như thế nào ạ?   \n",
       "8       Không biết chụp X-quang có ảnh hưởng đến thai ...   \n",
       "12      Vợ em bị tử cung 1 sừng bẩm sinh có mang thai ...   \n",
       "16      Dính buồng tử cũng một phần có thai được không ạ?   \n",
       "...                                                   ...   \n",
       "103032  Chạy thận là gì? Nguyên nhân, chống chỉ định, ...   \n",
       "103033  Chạy thận là gì? Nguyên nhân, chống chỉ định, ...   \n",
       "103034  Chạy thận là gì? Nguyên nhân, chống chỉ định, ...   \n",
       "103035  Chạy thận là gì? Nguyên nhân, chống chỉ định, ...   \n",
       "103036  Chạy thận là gì? Nguyên nhân, chống chỉ định, ...   \n",
       "\n",
       "                                                  heading  \\\n",
       "0          Zente có ảnh hưởng nhiều đến thai nhi không ạ?   \n",
       "4               Các chỉ số trên có ý nghĩa như thế nào ạ?   \n",
       "8       Không biết chụp X-quang có ảnh hưởng đến thai ...   \n",
       "12      Vợ em bị tử cung 1 sừng bẩm sinh có mang thai ...   \n",
       "16      Dính buồng tử cũng một phần có thai được không ạ?   \n",
       "...                                                   ...   \n",
       "103032           Quy trình chạy thận diễn ra như thế nào?   \n",
       "103033                   Lưu ý trước và sau khi chạy thận   \n",
       "103034         Hướng dẫn chăm sóc bệnh nhân sau chạy thận   \n",
       "103035      Lời khuyên của bác sĩ đối với người chạy thận   \n",
       "103036                                  Câu hỏi liên quan   \n",
       "\n",
       "                                                  content error  \n",
       "0       Chào Chị, Cảm ơn chị đã đặt câu hỏi đến Bệnh v...   NaN  \n",
       "4       Chào Chị,\\nCảm ơn chị đã gửi câu hỏi về Bệnh v...   NaN  \n",
       "8       Chào Anh,\\nCám ơn anh đã gửi câu hỏi đến Bệnh ...   NaN  \n",
       "12      Chào Anh,\\nCám ơn anh đã gửi câu hỏi đến Bệnh ...   NaN  \n",
       "16      Chào Chị,\\nDính buồng tử cung là một yếu tố ản...   NaN  \n",
       "...                                                   ...   ...  \n",
       "103032  Quy trình chạy thận diễn ra như sau: Chuẩn bị,...   NaN  \n",
       "103033  Lưu ý trước và sau khi chạy thận giúp quá trìn...   NaN  \n",
       "103034  Dưới đây là các hướng dẫn chăm sóc người bệnh ...   NaN  \n",
       "103035  Lời khuyên của bác sĩ đối với người chạy thận ...   NaN  \n",
       "103036  1. Chạy thận có nguy hiểm không? Chạy thận khô...   NaN  \n",
       "\n",
       "[65074 rows x 5 columns]>"
      ]
     },
     "execution_count": 51,
     "metadata": {},
     "output_type": "execute_result"
    }
   ],
   "source": [
    "df.describe"
   ]
  },
  {
   "cell_type": "code",
   "execution_count": 52,
   "id": "542dd8d5",
   "metadata": {},
   "outputs": [],
   "source": [
    "markers = [\n",
    "    \"HỆ THỐNG BỆNH VIỆN ĐA KHOA TÂM ANH Hà Nội\",\n",
    "    \"HỆ THỐNG BỆNH VIỆN ĐA KHOA TÂM ANH Bệnh viện Đa khoa Tâm Anh Hà Nội\"\n",
    "]\n",
    "\n",
    "def remove_after_markers(text):\n",
    "    for marker in markers:\n",
    "        if marker in text:\n",
    "            return text.split(marker)[0]\n",
    "    return text\n",
    "\n",
    "df['content'] = df['content'].astype(str).apply(remove_after_markers)"
   ]
  },
  {
   "cell_type": "code",
   "execution_count": 53,
   "id": "da1d4e25",
   "metadata": {},
   "outputs": [],
   "source": [
    "df = df[df.content.str.strip() != \"\"]  "
   ]
  },
  {
   "cell_type": "code",
   "execution_count": 54,
   "id": "7cbee25b",
   "metadata": {},
   "outputs": [],
   "source": [
    "df.to_csv('./data_cleaned.csv', index=False)"
   ]
  },
  {
   "cell_type": "code",
   "execution_count": 55,
   "id": "3b62c362",
   "metadata": {},
   "outputs": [
    {
     "data": {
      "text/plain": [
       "<bound method NDFrame.describe of                                                       url  \\\n",
       "0       https://tamanhhospital.vn/tu-van/zente-co-anh-...   \n",
       "4       https://tamanhhospital.vn/tu-van/cac-chi-so-tr...   \n",
       "8       https://tamanhhospital.vn/tu-van/khong-biet-ch...   \n",
       "12      https://tamanhhospital.vn/tu-van/vo-em-bi-tu-c...   \n",
       "16      https://tamanhhospital.vn/tu-van/dinh-buong-tu...   \n",
       "...                                                   ...   \n",
       "103032  https://tamanhhospital.vn/thu-thuat-ky-thuat/c...   \n",
       "103033  https://tamanhhospital.vn/thu-thuat-ky-thuat/c...   \n",
       "103034  https://tamanhhospital.vn/thu-thuat-ky-thuat/c...   \n",
       "103035  https://tamanhhospital.vn/thu-thuat-ky-thuat/c...   \n",
       "103036  https://tamanhhospital.vn/thu-thuat-ky-thuat/c...   \n",
       "\n",
       "                                                    title  \\\n",
       "0          Zente có ảnh hưởng nhiều đến thai nhi không ạ?   \n",
       "4               Các chỉ số trên có ý nghĩa như thế nào ạ?   \n",
       "8       Không biết chụp X-quang có ảnh hưởng đến thai ...   \n",
       "12      Vợ em bị tử cung 1 sừng bẩm sinh có mang thai ...   \n",
       "16      Dính buồng tử cũng một phần có thai được không ạ?   \n",
       "...                                                   ...   \n",
       "103032  Chạy thận là gì? Nguyên nhân, chống chỉ định, ...   \n",
       "103033  Chạy thận là gì? Nguyên nhân, chống chỉ định, ...   \n",
       "103034  Chạy thận là gì? Nguyên nhân, chống chỉ định, ...   \n",
       "103035  Chạy thận là gì? Nguyên nhân, chống chỉ định, ...   \n",
       "103036  Chạy thận là gì? Nguyên nhân, chống chỉ định, ...   \n",
       "\n",
       "                                                  heading  \\\n",
       "0          Zente có ảnh hưởng nhiều đến thai nhi không ạ?   \n",
       "4               Các chỉ số trên có ý nghĩa như thế nào ạ?   \n",
       "8       Không biết chụp X-quang có ảnh hưởng đến thai ...   \n",
       "12      Vợ em bị tử cung 1 sừng bẩm sinh có mang thai ...   \n",
       "16      Dính buồng tử cũng một phần có thai được không ạ?   \n",
       "...                                                   ...   \n",
       "103032           Quy trình chạy thận diễn ra như thế nào?   \n",
       "103033                   Lưu ý trước và sau khi chạy thận   \n",
       "103034         Hướng dẫn chăm sóc bệnh nhân sau chạy thận   \n",
       "103035      Lời khuyên của bác sĩ đối với người chạy thận   \n",
       "103036                                  Câu hỏi liên quan   \n",
       "\n",
       "                                                  content error  \n",
       "0       Chào Chị, Cảm ơn chị đã đặt câu hỏi đến Bệnh v...   NaN  \n",
       "4       Chào Chị,\\nCảm ơn chị đã gửi câu hỏi về Bệnh v...   NaN  \n",
       "8       Chào Anh,\\nCám ơn anh đã gửi câu hỏi đến Bệnh ...   NaN  \n",
       "12      Chào Anh,\\nCám ơn anh đã gửi câu hỏi đến Bệnh ...   NaN  \n",
       "16      Chào Chị,\\nDính buồng tử cung là một yếu tố ản...   NaN  \n",
       "...                                                   ...   ...  \n",
       "103032  Quy trình chạy thận diễn ra như sau: Chuẩn bị,...   NaN  \n",
       "103033  Lưu ý trước và sau khi chạy thận giúp quá trìn...   NaN  \n",
       "103034  Dưới đây là các hướng dẫn chăm sóc người bệnh ...   NaN  \n",
       "103035  Lời khuyên của bác sĩ đối với người chạy thận ...   NaN  \n",
       "103036  1. Chạy thận có nguy hiểm không? Chạy thận khô...   NaN  \n",
       "\n",
       "[65069 rows x 5 columns]>"
      ]
     },
     "execution_count": 55,
     "metadata": {},
     "output_type": "execute_result"
    }
   ],
   "source": [
    "df.describe"
   ]
  }
 ],
 "metadata": {
  "kernelspec": {
   "display_name": "myenv",
   "language": "python",
   "name": "python3"
  },
  "language_info": {
   "codemirror_mode": {
    "name": "ipython",
    "version": 3
   },
   "file_extension": ".py",
   "mimetype": "text/x-python",
   "name": "python",
   "nbconvert_exporter": "python",
   "pygments_lexer": "ipython3",
   "version": "3.12.5"
  }
 },
 "nbformat": 4,
 "nbformat_minor": 5
}
