{
 "cells": [
  {
   "cell_type": "code",
   "execution_count": 1,
   "id": "49e6ca00",
   "metadata": {},
   "outputs": [
    {
     "name": "stderr",
     "output_type": "stream",
     "text": [
      "d:\\HocTap\\ChatBot\\myenv\\Lib\\site-packages\\tqdm\\auto.py:21: TqdmWarning: IProgress not found. Please update jupyter and ipywidgets. See https://ipywidgets.readthedocs.io/en/stable/user_install.html\n",
      "  from .autonotebook import tqdm as notebook_tqdm\n"
     ]
    }
   ],
   "source": [
    "import random\n",
    "from sentence_transformers import SentenceTransformer\n",
    "from sentence_transformers.evaluation import InformationRetrievalEvaluator\n",
    "from datasets import load_dataset\n",
    "\n"
   ]
  },
  {
   "cell_type": "code",
   "execution_count": null,
   "id": "5a28b2de",
   "metadata": {},
   "outputs": [],
   "source": [
    "# Load a model\n",
    "from dotenv import load_dotenv\n",
    "import os\n",
    "load_dotenv()\n",
    "hf_token = os.environ[\"HF_TOKEN\"]\n",
    "model = SentenceTransformer(\"dangvantuan/vietnamese-document-embedding\", trust_remote_code=True, token=hf_token)"
   ]
  },
  {
   "cell_type": "code",
   "execution_count": null,
   "id": "f41154b1",
   "metadata": {},
   "outputs": [],
   "source": [
    "# Load the Touche-2020 IR dataset (https://huggingface.co/datasets/BeIR/webis-touche2020, https://huggingface.co/datasets/BeIR/webis-touche2020-qrels)\n",
    "corpus = load_dataset(\"thecuong/medical-data-bk\", \"corpus\", split=\"train\", token=hf_token)\n",
    "queries = load_dataset(\"thecuong/medical-data-bk\", \"queries\", split=\"train\", token=hf_token)\n",
    "relevant_docs_data = load_dataset(\"thecuong/medical-data-bk\", \"relevant_docs\", split=\"train\", token=hf_token)"
   ]
  },
  {
   "cell_type": "code",
   "execution_count": 4,
   "id": "e6e3dab8",
   "metadata": {},
   "outputs": [],
   "source": [
    "# For this dataset, we want to concatenate the title and texts for the corpus\n",
    "# corpus = corpus.map(lambda x: {'text': x['title'] + \" \" + x['text']}, remove_columns=['title'])"
   ]
  },
  {
   "cell_type": "code",
   "execution_count": 5,
   "id": "2f299973",
   "metadata": {},
   "outputs": [],
   "source": [
    "# Shrink the corpus size heavily to only the relevant documents + 5,000 random documents\n",
    "required_corpus_ids = set(map(str, relevant_docs_data[\"article_id\"]))\n",
    "required_corpus_ids |= set(random.sample(corpus[\"article_id\"], k=1_000))\n",
    "corpus = corpus.filter(lambda x: x[\"article_id\"] in required_corpus_ids)"
   ]
  },
  {
   "cell_type": "code",
   "execution_count": 6,
   "id": "547c7a92",
   "metadata": {},
   "outputs": [],
   "source": [
    "# Convert the datasets to dictionaries\n",
    "corpus = dict(zip(corpus[\"article_id\"], corpus[\"article\"]))  # Our corpus (cid => document)\n",
    "queries = dict(zip(queries[\"question_id\"], queries[\"question\"]))  # Our queries (qid => question)\n",
    "relevant_docs = {}  # Query ID to relevant documents (qid => set([relevant_cids])\n",
    "for qid, corpus_ids in zip(relevant_docs_data[\"question_id\"], relevant_docs_data[\"article_id\"]):\n",
    "    qid = str(qid)\n",
    "    corpus_ids = str(corpus_ids)\n",
    "    if qid not in relevant_docs:\n",
    "        relevant_docs[qid] = set()\n",
    "    relevant_docs[qid].add(corpus_ids)"
   ]
  },
  {
   "cell_type": "code",
   "execution_count": 7,
   "id": "0c2aca0e",
   "metadata": {},
   "outputs": [],
   "source": [
    "# Given queries, a corpus and a mapping with relevant documents, the InformationRetrievalEvaluator computes different IR metrics.\n",
    "ir_evaluator = InformationRetrievalEvaluator(\n",
    "    queries=queries,\n",
    "    corpus=corpus,\n",
    "    relevant_docs=relevant_docs,\n",
    "    name=\"dangvantuan/vietnamese-document-embedding\",\n",
    ")"
   ]
  },
  {
   "cell_type": "code",
   "execution_count": 8,
   "id": "29fcec8d",
   "metadata": {},
   "outputs": [],
   "source": [
    "corpus_ids = list(corpus.keys())\n",
    "corpus_texts = list(corpus.values())\n",
    "\n",
    "# Encode trước\n",
    "corpus_embeddings = model.encode(\n",
    "    corpus_texts,\n",
    "    batch_size=2,  # giảm batch size\n",
    "    convert_to_tensor=True,\n",
    "    device=\"cuda\"  # hoặc \"cpu\"\n",
    ")"
   ]
  },
  {
   "cell_type": "code",
   "execution_count": 9,
   "id": "9c35c298",
   "metadata": {},
   "outputs": [],
   "source": [
    "# Đánh giá với embedding đã có\n",
    "results = ir_evaluator(model, corpus_embeddings=corpus_embeddings)"
   ]
  },
  {
   "cell_type": "code",
   "execution_count": 10,
   "id": "e5bfb562",
   "metadata": {},
   "outputs": [],
   "source": [
    "# results = ir_evaluator(model)\n"
   ]
  },
  {
   "cell_type": "code",
   "execution_count": 11,
   "id": "108db32e",
   "metadata": {},
   "outputs": [
    {
     "name": "stdout",
     "output_type": "stream",
     "text": [
      "dangvantuan/vietnamese-document-embedding_cosine_ndcg@10\n",
      "0.5979423799936066\n"
     ]
    }
   ],
   "source": [
    "print(ir_evaluator.primary_metric)\n",
    "# => \"BeIR-touche2020-test_cosine_map@100\"\n",
    "print(results[ir_evaluator.primary_metric])\n",
    "# => 0.29335196224364596"
   ]
  },
  {
   "cell_type": "code",
   "execution_count": 12,
   "id": "e2290abc",
   "metadata": {},
   "outputs": [
    {
     "name": "stdout",
     "output_type": "stream",
     "text": [
      "{'dangvantuan/vietnamese-document-embedding_cosine_accuracy@1': 0.4357841634382229,\n",
      " 'dangvantuan/vietnamese-document-embedding_cosine_accuracy@10': 0.7613088436132557,\n",
      " 'dangvantuan/vietnamese-document-embedding_cosine_accuracy@3': 0.6282226371972462,\n",
      " 'dangvantuan/vietnamese-document-embedding_cosine_accuracy@5': 0.6946960617631484,\n",
      " 'dangvantuan/vietnamese-document-embedding_cosine_map@100': 0.5513950852657435,\n",
      " 'dangvantuan/vietnamese-document-embedding_cosine_mrr@10': 0.545638631299083,\n",
      " 'dangvantuan/vietnamese-document-embedding_cosine_ndcg@10': 0.5979423799936066,\n",
      " 'dangvantuan/vietnamese-document-embedding_cosine_precision@1': 0.4357841634382229,\n",
      " 'dangvantuan/vietnamese-document-embedding_cosine_precision@10': 0.07613088436132556,\n",
      " 'dangvantuan/vietnamese-document-embedding_cosine_precision@3': 0.20940754573241543,\n",
      " 'dangvantuan/vietnamese-document-embedding_cosine_precision@5': 0.1389392123526297,\n",
      " 'dangvantuan/vietnamese-document-embedding_cosine_recall@1': 0.4357841634382229,\n",
      " 'dangvantuan/vietnamese-document-embedding_cosine_recall@10': 0.7613088436132557,\n",
      " 'dangvantuan/vietnamese-document-embedding_cosine_recall@3': 0.6282226371972462,\n",
      " 'dangvantuan/vietnamese-document-embedding_cosine_recall@5': 0.6946960617631484}\n"
     ]
    }
   ],
   "source": [
    "from pprint import pprint\n",
    "pprint(results)"
   ]
  }
 ],
 "metadata": {
  "kernelspec": {
   "display_name": "myenv (3.12.5)",
   "language": "python",
   "name": "python3"
  },
  "language_info": {
   "codemirror_mode": {
    "name": "ipython",
    "version": 3
   },
   "file_extension": ".py",
   "mimetype": "text/x-python",
   "name": "python",
   "nbconvert_exporter": "python",
   "pygments_lexer": "ipython3",
   "version": "3.12.5"
  }
 },
 "nbformat": 4,
 "nbformat_minor": 5
}
