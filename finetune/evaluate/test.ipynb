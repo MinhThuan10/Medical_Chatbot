{
 "cells": [
  {
   "cell_type": "code",
   "execution_count": 1,
   "id": "49e6ca00",
   "metadata": {},
   "outputs": [
    {
     "name": "stderr",
     "output_type": "stream",
     "text": [
      "d:\\HocTap\\ChatBot\\myenv\\Lib\\site-packages\\tqdm\\auto.py:21: TqdmWarning: IProgress not found. Please update jupyter and ipywidgets. See https://ipywidgets.readthedocs.io/en/stable/user_install.html\n",
      "  from .autonotebook import tqdm as notebook_tqdm\n"
     ]
    }
   ],
   "source": [
    "import random\n",
    "from sentence_transformers import SentenceTransformer\n",
    "from sentence_transformers.evaluation import InformationRetrievalEvaluator\n",
    "from datasets import load_dataset\n",
    "\n"
   ]
  },
  {
   "cell_type": "code",
   "execution_count": null,
   "id": "5a28b2de",
   "metadata": {},
   "outputs": [],
   "source": [
    "# Load a model\n",
    "from dotenv import load_dotenv\n",
    "import os\n",
    "load_dotenv()\n",
    "hf_token = os.environ[\"HF_TOKEN\"]\n",
    "model = SentenceTransformer('all-MiniLM-L6-v2')"
   ]
  },
  {
   "cell_type": "code",
   "execution_count": null,
   "id": "f41154b1",
   "metadata": {},
   "outputs": [
    {
     "name": "stderr",
     "output_type": "stream",
     "text": [
      "Generating queries split: 100%|██████████| 49/49 [00:00<00:00, 11348.48 examples/s]\n",
      "d:\\HocTap\\ChatBot\\myenv\\Lib\\site-packages\\huggingface_hub\\file_download.py:144: UserWarning: `huggingface_hub` cache-system uses symlinks by default to efficiently store duplicated files but your machine does not support them in C:\\Users\\Windows\\.cache\\huggingface\\hub\\datasets--BeIR--webis-touche2020-qrels. Caching files will still work but in a degraded version that might require more space on your disk. This warning can be disabled by setting the `HF_HUB_DISABLE_SYMLINKS_WARNING` environment variable. For more details, see https://huggingface.co/docs/huggingface_hub/how-to-cache#limitations.\n",
      "To support symlinks on Windows, you either need to activate Developer Mode or to run Python as an administrator. In order to activate developer mode, see this article: https://docs.microsoft.com/en-us/windows/apps/get-started/enable-your-device-for-development\n",
      "  warnings.warn(message)\n",
      "Generating test split: 100%|██████████| 2214/2214 [00:00<00:00, 81065.27 examples/s]\n"
     ]
    }
   ],
   "source": [
    "# Load the Touche-2020 IR dataset (https://huggingface.co/datasets/BeIR/webis-touche2020, https://huggingface.co/datasets/BeIR/webis-touche2020-qrels)\n",
    "corpus = load_dataset(\"BeIR/webis-touche2020\", \"corpus\", split=\"corpus\", token=hf_token)\n",
    "queries = load_dataset(\"BeIR/webis-touche2020\", \"queries\", split=\"queries\", token=hf_token)\n",
    "relevant_docs_data = load_dataset(\"BeIR/webis-touche2020-qrels\", split=\"test\", token=hf_token)"
   ]
  },
  {
   "cell_type": "code",
   "execution_count": 8,
   "id": "e6e3dab8",
   "metadata": {},
   "outputs": [
    {
     "name": "stderr",
     "output_type": "stream",
     "text": [
      "Map: 100%|██████████| 382545/382545 [00:11<00:00, 34360.90 examples/s]\n"
     ]
    }
   ],
   "source": [
    "# For this dataset, we want to concatenate the title and texts for the corpus\n",
    "corpus = corpus.map(lambda x: {'text': x['title'] + \" \" + x['text']}, remove_columns=['title'])"
   ]
  },
  {
   "cell_type": "code",
   "execution_count": null,
   "id": "2f299973",
   "metadata": {},
   "outputs": [
    {
     "ename": "NameError",
     "evalue": "name 'relevant_docs_data' is not defined",
     "output_type": "error",
     "traceback": [
      "\u001b[31m---------------------------------------------------------------------------\u001b[39m",
      "\u001b[31mNameError\u001b[39m                                 Traceback (most recent call last)",
      "\u001b[36mCell\u001b[39m\u001b[36m \u001b[39m\u001b[32mIn[1]\u001b[39m\u001b[32m, line 2\u001b[39m\n\u001b[32m      1\u001b[39m \u001b[38;5;66;03m# Shrink the corpus size heavily to only the relevant documents + 30,000 random documents\u001b[39;00m\n\u001b[32m----> \u001b[39m\u001b[32m2\u001b[39m required_corpus_ids = \u001b[38;5;28mset\u001b[39m(\u001b[38;5;28mmap\u001b[39m(\u001b[38;5;28mstr\u001b[39m, \u001b[43mrelevant_docs_data\u001b[49m[\u001b[33m\"\u001b[39m\u001b[33marticle_id\u001b[39m\u001b[33m\"\u001b[39m]))\n\u001b[32m      3\u001b[39m required_corpus_ids |= \u001b[38;5;28mset\u001b[39m(random.sample(corpus[\u001b[33m\"\u001b[39m\u001b[33marticle_id\u001b[39m\u001b[33m\"\u001b[39m], k=\u001b[32m30_000\u001b[39m))\n\u001b[32m      4\u001b[39m corpus = corpus.filter(\u001b[38;5;28;01mlambda\u001b[39;00m x: x[\u001b[33m\"\u001b[39m\u001b[33m_id\u001b[39m\u001b[33m\"\u001b[39m] \u001b[38;5;129;01min\u001b[39;00m required_corpus_ids)\n",
      "\u001b[31mNameError\u001b[39m: name 'relevant_docs_data' is not defined"
     ]
    }
   ],
   "source": [
    "# Shrink the corpus size heavily to only the relevant documents + 30,000 random documents\n",
    "required_corpus_ids = set(map(str, relevant_docs_data[\"corpus-id\"]))\n",
    "required_corpus_ids |= set(random.sample(corpus[\"_id\"], k=30_000))\n",
    "corpus = corpus.filter(lambda x: x[\"_id\"] in required_corpus_ids)"
   ]
  },
  {
   "cell_type": "code",
   "execution_count": 10,
   "id": "547c7a92",
   "metadata": {},
   "outputs": [],
   "source": [
    "# Convert the datasets to dictionaries\n",
    "corpus = dict(zip(corpus[\"_id\"], corpus[\"text\"]))  # Our corpus (cid => document)\n",
    "queries = dict(zip(queries[\"_id\"], queries[\"text\"]))  # Our queries (qid => question)\n",
    "relevant_docs = {}  # Query ID to relevant documents (qid => set([relevant_cids])\n",
    "for qid, corpus_ids in zip(relevant_docs_data[\"query-id\"], relevant_docs_data[\"corpus-id\"]):\n",
    "    qid = str(qid)\n",
    "    corpus_ids = str(corpus_ids)\n",
    "    if qid not in relevant_docs:\n",
    "        relevant_docs[qid] = set()\n",
    "    relevant_docs[qid].add(corpus_ids)"
   ]
  },
  {
   "cell_type": "code",
   "execution_count": 11,
   "id": "0c2aca0e",
   "metadata": {},
   "outputs": [],
   "source": [
    "# Given queries, a corpus and a mapping with relevant documents, the InformationRetrievalEvaluator computes different IR metrics.\n",
    "ir_evaluator = InformationRetrievalEvaluator(\n",
    "    queries=queries,\n",
    "    corpus=corpus,\n",
    "    relevant_docs=relevant_docs,\n",
    "    name=\"BeIR-touche2020-subset-test\",\n",
    ")"
   ]
  },
  {
   "cell_type": "code",
   "execution_count": 12,
   "id": "e5bfb562",
   "metadata": {},
   "outputs": [
    {
     "data": {
      "text/plain": [
       "'\\nInformation Retrieval Evaluation of the model on the BeIR-touche2020-test dataset:\\nQueries: 49\\nCorpus: 31923\\n\\nScore-Function: cosine\\nAccuracy@1: 77.55%\\nAccuracy@3: 93.88%\\nAccuracy@5: 97.96%\\nAccuracy@10: 100.00%\\nPrecision@1: 77.55%\\nPrecision@3: 72.11%\\nPrecision@5: 71.43%\\nPrecision@10: 62.65%\\nRecall@1: 1.72%\\nRecall@3: 4.78%\\nRecall@5: 7.90%\\nRecall@10: 13.86%\\nMRR@10: 0.8580\\nNDCG@10: 0.6606\\nMAP@100: 0.2934\\n'"
      ]
     },
     "execution_count": 12,
     "metadata": {},
     "output_type": "execute_result"
    }
   ],
   "source": [
    "results = ir_evaluator(model)\n",
    "'''\n",
    "Information Retrieval Evaluation of the model on the BeIR-touche2020-test dataset:\n",
    "Queries: 49\n",
    "Corpus: 31923\n",
    "\n",
    "Score-Function: cosine\n",
    "Accuracy@1: 77.55%\n",
    "Accuracy@3: 93.88%\n",
    "Accuracy@5: 97.96%\n",
    "Accuracy@10: 100.00%\n",
    "Precision@1: 77.55%\n",
    "Precision@3: 72.11%\n",
    "Precision@5: 71.43%\n",
    "Precision@10: 62.65%\n",
    "Recall@1: 1.72%\n",
    "Recall@3: 4.78%\n",
    "Recall@5: 7.90%\n",
    "Recall@10: 13.86%\n",
    "MRR@10: 0.8580\n",
    "NDCG@10: 0.6606\n",
    "MAP@100: 0.2934\n",
    "'''"
   ]
  },
  {
   "cell_type": "code",
   "execution_count": 17,
   "id": "108db32e",
   "metadata": {},
   "outputs": [
    {
     "name": "stdout",
     "output_type": "stream",
     "text": [
      "BeIR-touche2020-subset-test_cosine_ndcg@10\n",
      "0.6870439332160302\n"
     ]
    }
   ],
   "source": [
    "print(ir_evaluator.primary_metric)\n",
    "# => \"BeIR-touche2020-test_cosine_map@100\"\n",
    "print(results[ir_evaluator.primary_metric])\n",
    "# => 0.29335196224364596"
   ]
  },
  {
   "cell_type": "code",
   "execution_count": 18,
   "id": "e2290abc",
   "metadata": {},
   "outputs": [
    {
     "name": "stdout",
     "output_type": "stream",
     "text": [
      "{'BeIR-touche2020-subset-test_cosine_accuracy@1': 0.7959183673469388,\n",
      " 'BeIR-touche2020-subset-test_cosine_accuracy@10': 1.0,\n",
      " 'BeIR-touche2020-subset-test_cosine_accuracy@3': 0.9387755102040817,\n",
      " 'BeIR-touche2020-subset-test_cosine_accuracy@5': 0.9795918367346939,\n",
      " 'BeIR-touche2020-subset-test_cosine_map@100': 0.3073542398434952,\n",
      " 'BeIR-touche2020-subset-test_cosine_mrr@10': 0.876530612244898,\n",
      " 'BeIR-touche2020-subset-test_cosine_ndcg@10': 0.6870439332160302,\n",
      " 'BeIR-touche2020-subset-test_cosine_precision@1': 0.7959183673469388,\n",
      " 'BeIR-touche2020-subset-test_cosine_precision@10': 0.6551020408163266,\n",
      " 'BeIR-touche2020-subset-test_cosine_precision@3': 0.7619047619047619,\n",
      " 'BeIR-touche2020-subset-test_cosine_precision@5': 0.7224489795918365,\n",
      " 'BeIR-touche2020-subset-test_cosine_recall@1': 0.01762769800967753,\n",
      " 'BeIR-touche2020-subset-test_cosine_recall@10': 0.14480169875085985,\n",
      " 'BeIR-touche2020-subset-test_cosine_recall@3': 0.05070635398280529,\n",
      " 'BeIR-touche2020-subset-test_cosine_recall@5': 0.08020922147609769}\n"
     ]
    }
   ],
   "source": [
    "from pprint import pprint\n",
    "pprint(results)"
   ]
  }
 ],
 "metadata": {
  "kernelspec": {
   "display_name": "myenv (3.12.5)",
   "language": "python",
   "name": "python3"
  },
  "language_info": {
   "codemirror_mode": {
    "name": "ipython",
    "version": 3
   },
   "file_extension": ".py",
   "mimetype": "text/x-python",
   "name": "python",
   "nbconvert_exporter": "python",
   "pygments_lexer": "ipython3",
   "version": "3.12.5"
  }
 },
 "nbformat": 4,
 "nbformat_minor": 5
}
