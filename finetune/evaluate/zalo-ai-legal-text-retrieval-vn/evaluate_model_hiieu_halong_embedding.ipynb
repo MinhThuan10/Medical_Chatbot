{
 "cells": [
  {
   "cell_type": "code",
   "execution_count": 1,
   "id": "49e6ca00",
   "metadata": {},
   "outputs": [
    {
     "name": "stderr",
     "output_type": "stream",
     "text": [
      "d:\\HocTap\\ChatBot\\myenv\\Lib\\site-packages\\tqdm\\auto.py:21: TqdmWarning: IProgress not found. Please update jupyter and ipywidgets. See https://ipywidgets.readthedocs.io/en/stable/user_install.html\n",
      "  from .autonotebook import tqdm as notebook_tqdm\n"
     ]
    }
   ],
   "source": [
    "import random\n",
    "from sentence_transformers import SentenceTransformer\n",
    "from sentence_transformers.evaluation import InformationRetrievalEvaluator\n",
    "from datasets import load_dataset\n",
    "\n"
   ]
  },
  {
   "cell_type": "code",
   "execution_count": null,
   "id": "5a28b2de",
   "metadata": {},
   "outputs": [
    {
     "name": "stderr",
     "output_type": "stream",
     "text": [
      "d:\\HocTap\\ChatBot\\myenv\\Lib\\site-packages\\huggingface_hub\\file_download.py:144: UserWarning: `huggingface_hub` cache-system uses symlinks by default to efficiently store duplicated files but your machine does not support them in C:\\Users\\Windows\\.cache\\huggingface\\hub\\models--hiieu--halong_embedding. Caching files will still work but in a degraded version that might require more space on your disk. This warning can be disabled by setting the `HF_HUB_DISABLE_SYMLINKS_WARNING` environment variable. For more details, see https://huggingface.co/docs/huggingface_hub/how-to-cache#limitations.\n",
      "To support symlinks on Windows, you either need to activate Developer Mode or to run Python as an administrator. In order to activate developer mode, see this article: https://docs.microsoft.com/en-us/windows/apps/get-started/enable-your-device-for-development\n",
      "  warnings.warn(message)\n"
     ]
    }
   ],
   "source": [
    "# Load a model\n",
    "from dotenv import load_dotenv\n",
    "import os\n",
    "load_dotenv()\n",
    "hf_token = os.environ[\"HF_TOKEN\"]\n",
    "model = SentenceTransformer(\"hiieu/halong_embedding\", token=hf_token)"
   ]
  },
  {
   "cell_type": "code",
   "execution_count": null,
   "id": "f41154b1",
   "metadata": {},
   "outputs": [],
   "source": [
    "# Load the Touche-2020 IR dataset (https://huggingface.co/datasets/BeIR/webis-touche2020, https://huggingface.co/datasets/BeIR/webis-touche2020-qrels)\n",
    "corpus = load_dataset(\"GreenNode/zalo-ai-legal-text-retrieval-vn\", \"corpus\", split=\"corpus\", token=hf_token)\n",
    "queries = load_dataset(\"GreenNode/zalo-ai-legal-text-retrieval-vn\", \"queries\", split=\"queries\", token=hf_token)\n",
    "relevant_docs_data = load_dataset(\"GreenNode/zalo-ai-legal-text-retrieval-vn\", \"default\", split=\"train\", token=hf_token)"
   ]
  },
  {
   "cell_type": "code",
   "execution_count": 4,
   "id": "e6e3dab8",
   "metadata": {},
   "outputs": [],
   "source": [
    "# For this dataset, we want to concatenate the title and texts for the corpus\n",
    "corpus = corpus.map(lambda x: {'text': x['title'] + \" \" + x['text']}, remove_columns=['title'])"
   ]
  },
  {
   "cell_type": "code",
   "execution_count": 5,
   "id": "2f299973",
   "metadata": {},
   "outputs": [
    {
     "name": "stderr",
     "output_type": "stream",
     "text": [
      "Filter: 100%|██████████| 61425/61425 [00:00<00:00, 122523.29 examples/s]\n"
     ]
    }
   ],
   "source": [
    "# Shrink the corpus size heavily to only the relevant documents + 5,000 random documents\n",
    "required_corpus_ids = set(map(str, relevant_docs_data[\"corpus-id\"]))\n",
    "required_corpus_ids |= set(random.sample(corpus[\"_id\"], k=5_000))\n",
    "corpus = corpus.filter(lambda x: x[\"_id\"] in required_corpus_ids)"
   ]
  },
  {
   "cell_type": "code",
   "execution_count": 6,
   "id": "547c7a92",
   "metadata": {},
   "outputs": [],
   "source": [
    "# Convert the datasets to dictionaries\n",
    "corpus = dict(zip(corpus[\"_id\"], corpus[\"text\"]))  # Our corpus (cid => document)\n",
    "queries = dict(zip(queries[\"_id\"], queries[\"text\"]))  # Our queries (qid => question)\n",
    "relevant_docs = {}  # Query ID to relevant documents (qid => set([relevant_cids])\n",
    "for qid, corpus_ids in zip(relevant_docs_data[\"query-id\"], relevant_docs_data[\"corpus-id\"]):\n",
    "    qid = str(qid)\n",
    "    corpus_ids = str(corpus_ids)\n",
    "    if qid not in relevant_docs:\n",
    "        relevant_docs[qid] = set()\n",
    "    relevant_docs[qid].add(corpus_ids)"
   ]
  },
  {
   "cell_type": "code",
   "execution_count": 7,
   "id": "0c2aca0e",
   "metadata": {},
   "outputs": [],
   "source": [
    "# Given queries, a corpus and a mapping with relevant documents, the InformationRetrievalEvaluator computes different IR metrics.\n",
    "ir_evaluator = InformationRetrievalEvaluator(\n",
    "    queries=queries,\n",
    "    corpus=corpus,\n",
    "    relevant_docs=relevant_docs,\n",
    "    name=\"hiieu/halong_embedding\",\n",
    ")"
   ]
  },
  {
   "cell_type": "code",
   "execution_count": 8,
   "id": "0e663954",
   "metadata": {},
   "outputs": [],
   "source": [
    "corpus_ids = list(corpus.keys())\n",
    "corpus_texts = list(corpus.values())\n",
    "\n",
    "# Encode trước\n",
    "corpus_embeddings = model.encode(\n",
    "    corpus_texts,\n",
    "    batch_size=64,  # giảm batch size\n",
    "    convert_to_tensor=True,\n",
    "    device=\"cuda\"  # hoặc \"cpu\"\n",
    ")"
   ]
  },
  {
   "cell_type": "code",
   "execution_count": 9,
   "id": "e5bfb562",
   "metadata": {},
   "outputs": [],
   "source": [
    "# Đánh giá với embedding đã có\n",
    "results = ir_evaluator(model, corpus_embeddings=corpus_embeddings)"
   ]
  },
  {
   "cell_type": "code",
   "execution_count": 10,
   "id": "108db32e",
   "metadata": {},
   "outputs": [
    {
     "name": "stdout",
     "output_type": "stream",
     "text": [
      "hiieu/halong_embedding_cosine_ndcg@10\n",
      "0.8170687010083636\n"
     ]
    }
   ],
   "source": [
    "print(ir_evaluator.primary_metric)\n",
    "# => \"BeIR-touche2020-test_cosine_map@100\"\n",
    "print(results[ir_evaluator.primary_metric])\n",
    "# => 0.29335196224364596"
   ]
  },
  {
   "cell_type": "code",
   "execution_count": 11,
   "id": "e2290abc",
   "metadata": {},
   "outputs": [
    {
     "name": "stdout",
     "output_type": "stream",
     "text": [
      "{'hiieu/halong_embedding_cosine_accuracy@1': 0.7060032894736842,\n",
      " 'hiieu/halong_embedding_cosine_accuracy@10': 0.9280427631578947,\n",
      " 'hiieu/halong_embedding_cosine_accuracy@3': 0.8536184210526315,\n",
      " 'hiieu/halong_embedding_cosine_accuracy@5': 0.8955592105263158,\n",
      " 'hiieu/halong_embedding_cosine_map@100': 0.7836714683261421,\n",
      " 'hiieu/halong_embedding_cosine_mrr@10': 0.7860882675438589,\n",
      " 'hiieu/halong_embedding_cosine_ndcg@10': 0.8170687010083636,\n",
      " 'hiieu/halong_embedding_cosine_precision@1': 0.7060032894736842,\n",
      " 'hiieu/halong_embedding_cosine_precision@10': 0.09440789473684211,\n",
      " 'hiieu/halong_embedding_cosine_precision@3': 0.28824013157894735,\n",
      " 'hiieu/halong_embedding_cosine_precision@5': 0.1819078947368421,\n",
      " 'hiieu/halong_embedding_cosine_recall@1': 0.6961348684210527,\n",
      " 'hiieu/halong_embedding_cosine_recall@10': 0.9225603070175438,\n",
      " 'hiieu/halong_embedding_cosine_recall@3': 0.8471765350877194,\n",
      " 'hiieu/halong_embedding_cosine_recall@5': 0.8895970394736842}\n"
     ]
    }
   ],
   "source": [
    "from pprint import pprint\n",
    "pprint(results)"
   ]
  }
 ],
 "metadata": {
  "kernelspec": {
   "display_name": "myenv (3.12.5)",
   "language": "python",
   "name": "python3"
  },
  "language_info": {
   "codemirror_mode": {
    "name": "ipython",
    "version": 3
   },
   "file_extension": ".py",
   "mimetype": "text/x-python",
   "name": "python",
   "nbconvert_exporter": "python",
   "pygments_lexer": "ipython3",
   "version": "3.12.5"
  }
 },
 "nbformat": 4,
 "nbformat_minor": 5
}
